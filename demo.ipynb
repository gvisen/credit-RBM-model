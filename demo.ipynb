{
 "cells": [
  {
   "cell_type": "code",
   "execution_count": 1,
   "id": "b2e6b5f0",
   "metadata": {},
   "outputs": [
    {
     "name": "stderr",
     "output_type": "stream",
     "text": [
      "2023-04-15 12:17:50.770844: I tensorflow/core/platform/cpu_feature_guard.cc:193] This TensorFlow binary is optimized with oneAPI Deep Neural Network Library (oneDNN) to use the following CPU instructions in performance-critical operations:  AVX2 FMA\n",
      "To enable them in other operations, rebuild TensorFlow with the appropriate compiler flags.\n",
      "2023-04-15 12:17:50.893157: W tensorflow/compiler/xla/stream_executor/platform/default/dso_loader.cc:64] Could not load dynamic library 'libcudart.so.11.0'; dlerror: libcudart.so.11.0: cannot open shared object file: No such file or directory\n",
      "2023-04-15 12:17:50.893177: I tensorflow/compiler/xla/stream_executor/cuda/cudart_stub.cc:29] Ignore above cudart dlerror if you do not have a GPU set up on your machine.\n",
      "2023-04-15 12:17:51.585866: W tensorflow/compiler/xla/stream_executor/platform/default/dso_loader.cc:64] Could not load dynamic library 'libnvinfer.so.7'; dlerror: libnvinfer.so.7: cannot open shared object file: No such file or directory\n",
      "2023-04-15 12:17:51.585943: W tensorflow/compiler/xla/stream_executor/platform/default/dso_loader.cc:64] Could not load dynamic library 'libnvinfer_plugin.so.7'; dlerror: libnvinfer_plugin.so.7: cannot open shared object file: No such file or directory\n",
      "2023-04-15 12:17:51.585950: W tensorflow/compiler/tf2tensorrt/utils/py_utils.cc:38] TF-TRT Warning: Cannot dlopen some TensorRT libraries. If you would like to use Nvidia GPU with TensorRT, please make sure the missing libraries mentioned above are installed properly.\n"
     ]
    }
   ],
   "source": [
    "import tensorflow as tf\n",
    "import numpy as np\n",
    "import matplotlib.pyplot as plt\n",
    "from matplotlib.ticker import PercentFormatter\n",
    "\n",
    "# Load AMS LaTeX font in matplotlib.pyplot\n",
    "plt.rc('mathtext', fontset=\"cm\")\n",
    "plt.rcParams.update({\n",
    "'font.size': 12,\n",
    "'text.usetex': True,\n",
    "'text.latex.preamble': r'\\usepackage{amsfonts}'\n",
    "})\n",
    "\n",
    "# Import local modules\n",
    "\n",
    "from utils import get_tail_from_pds\n",
    "from RBM import RBM\n",
    "from copulas import GaussianCopula\n",
    "from utils import toy_dataset"
   ]
  },
  {
   "cell_type": "markdown",
   "id": "c7542561",
   "metadata": {},
   "source": [
    "# Simulating and calibrating copula models"
   ]
  },
  {
   "cell_type": "code",
   "execution_count": null,
   "id": "02cabd63",
   "metadata": {},
   "outputs": [],
   "source": [
    "# Generate synthetic multi-factor Gaussian copula dataset of default probabilities (PDs)\n",
    "\n",
    "n_debtors = 300\n",
    "n_factors = 50\n",
    "n_samples = 10000\n",
    "\n",
    "avg_pds = tf.random.uniform([n_debtors], minval=0., maxval=0.05)\n",
    "coefs = tf.random.uniform([n_debtors, n_factors], minval=0., maxval=1/(2*np.sqrt(n_factors)))\n",
    "\n",
    "GC_model_true = GaussianCopula(avg_pds=avg_pds, coefs=coefs)\n",
    "pds_true = GC_model_true.simulate_pds(n_samples)"
   ]
  },
  {
   "cell_type": "code",
   "execution_count": null,
   "id": "ee3fce1c",
   "metadata": {},
   "outputs": [],
   "source": [
    "# Calibrate a new multi-factor Gaussian copula model on the synthetic dataset\n",
    "\n",
    "GC_model_est = GaussianCopula()\n",
    "GC_model_est.fit(pds_true, n_factors=n_factors, verbose=True)"
   ]
  },
  {
   "cell_type": "code",
   "execution_count": null,
   "id": "4b2201ce",
   "metadata": {},
   "outputs": [],
   "source": [
    "# Generate a dataset of PDs from the calibrated model\n",
    "\n",
    "pds_est = GC_model_est.simulate_pds(n_samples)"
   ]
  },
  {
   "cell_type": "code",
   "execution_count": null,
   "id": "0a4ebf60",
   "metadata": {},
   "outputs": [],
   "source": [
    "# Compare the calibrated model with the true model using histograms of marginal distributions\n",
    "\n",
    "labels = ['True model', 'Estimated model']\n",
    "colors = ['red', 'blue']\n",
    "\n",
    "obligor_id = 10\n",
    "n_bins = 200\n",
    "\n",
    "for i_pds, pds in enumerate([pds_true, pds_est]):\n",
    "    plt.hist(pds[:, obligor_id], color=colors[i_pds], alpha=0.2, bins=n_bins, label=labels[i_pds], density=True)\n",
    "\n",
    "plt.legend(loc='upper right')\n",
    "plt.show()"
   ]
  },
  {
   "cell_type": "code",
   "execution_count": null,
   "id": "626bef6a",
   "metadata": {},
   "outputs": [],
   "source": [
    "# Compare the calibrated model with the true model using tail function of total portfolio losses\n",
    "\n",
    "ts = np.linspace(0., 1., 200)\n",
    "\n",
    "for i_pds, pds in enumerate([pds_true, pds_est]):\n",
    "    tail, ub, lb = get_tail_from_pds(ts, pds)\n",
    "    plt.plot(ts, np.log10(tail), color=colors[i_pds], label=labels[i_pds])\n",
    "    plt.fill_between(ts, np.log10(lb), np.log10(ub), facecolor=colors[i_pds], alpha=0.2)\n",
    "\n",
    "\n",
    "plt.gca().xaxis.set_major_formatter(PercentFormatter(xmax=1))\n",
    "    \n",
    "plt.xlabel('Relative portfolio loss, x (\\%)')\n",
    "plt.ylabel(r'Tail function, $\\mathbb{P}(L_n/n > x)$')\n",
    "plt.legend(loc='upper right')\n",
    "plt.show()"
   ]
  },
  {
   "cell_type": "markdown",
   "id": "f013f8a8",
   "metadata": {},
   "source": [
    "# Training the credit RBM model on a toy dataset"
   ]
  },
  {
   "cell_type": "code",
   "execution_count": 2,
   "id": "af402950",
   "metadata": {},
   "outputs": [
    {
     "name": "stdout",
     "output_type": "stream",
     "text": [
      "Cuda not available: dataset is kept on CPU. Training may be slow.\n",
      "Calibrating KDE track method on dataset. May take a while.\n"
     ]
    },
    {
     "data": {
      "image/png": "[encoded data removed]",
      "text/plain": [
       "<Figure size 640x480 with 1 Axes>"
      ]
     },
     "metadata": {},
     "output_type": "display_data"
    },
    {
     "ename": "NameError",
     "evalue": "name 'train_set' is not defined",
     "output_type": "error",
     "traceback": [
      "\u001b[0;31m---------------------------------------------------------------------------\u001b[0m",
      "\u001b[0;31mNameError\u001b[0m                                 Traceback (most recent call last)",
      "\u001b[0;32m/tmp/ipykernel_293695/4052134152.py\u001b[0m in \u001b[0;36m<module>\u001b[0;34m\u001b[0m\n\u001b[1;32m     23\u001b[0m \u001b[0;34m\u001b[0m\u001b[0m\n\u001b[1;32m     24\u001b[0m \u001b[0;31m# Train the RBM\u001b[0m\u001b[0;34m\u001b[0m\u001b[0;34m\u001b[0m\u001b[0;34m\u001b[0m\u001b[0m\n\u001b[0;32m---> 25\u001b[0;31m \u001b[0mrbm\u001b[0m\u001b[0;34m.\u001b[0m\u001b[0mtrain\u001b[0m\u001b[0;34m(\u001b[0m\u001b[0mtrain_set\u001b[0m\u001b[0;34m)\u001b[0m\u001b[0;34m\u001b[0m\u001b[0;34m\u001b[0m\u001b[0m\n\u001b[0m\u001b[1;32m     26\u001b[0m \u001b[0;34m\u001b[0m\u001b[0m\n\u001b[1;32m     27\u001b[0m \u001b[0;31m# Save model in '/models'\u001b[0m\u001b[0;34m\u001b[0m\u001b[0;34m\u001b[0m\u001b[0;34m\u001b[0m\u001b[0m\n",
      "\u001b[0;31mNameError\u001b[0m: name 'train_set' is not defined"
     ]
    }
   ],
   "source": [
    "dataset = toy_dataset()\n",
    "dataset.to('cuda')\n",
    "\n",
    "# number of hidden units\n",
    "nh = 100\n",
    "# number of visible units\n",
    "nv = dataset.n_features\n",
    "\n",
    "rbm = RBM(nv=nv, \n",
    "          nh=nh,\n",
    "          k=100,\n",
    "          training='PCD',\n",
    "          dataset = dataset,\n",
    "          visible_normalized=True,\n",
    "          lr=0.002,\n",
    "          lr_trend='linear',\n",
    "          bs=250,\n",
    "          epochs=10000,\n",
    "          print_step=100,\n",
    "          verbose=True, \n",
    "          track_method=['KDE', 'MMD', 'NDB', 'rec_error'],\n",
    "          track_learning=True)\n",
    "\n",
    "# Train the RBM \n",
    "rbm.train(dataset)\n",
    "\n",
    "# Save model in '/models'\n",
    "filename = 'models/trained_model.pt'\n",
    "rbm.save(filename=filename)"
   ]
  }
 ],
 "metadata": {
  "kernelspec": {
   "display_name": "Python 3 (ipykernel)",
   "language": "python",
   "name": "python3"
  },
  "language_info": {
   "codemirror_mode": {
    "name": "ipython",
    "version": 3
   },
   "file_extension": ".py",
   "mimetype": "text/x-python",
   "name": "python",
   "nbconvert_exporter": "python",
   "pygments_lexer": "ipython3",
   "version": "3.7.13"
  }
 },
 "nbformat": 4,
 "nbformat_minor": 5
}
