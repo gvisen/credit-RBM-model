{
 "cells": [
  {
   "cell_type": "code",
   "execution_count": null,
   "id": "9186dacc",
   "metadata": {},
   "outputs": [],
   "source": [
    "import tensorflow as tf\n",
    "import numpy as np\n",
    "import matplotlib.pyplot as plt\n",
    "from matplotlib.ticker import PercentFormatter\n",
    "\n",
    "# Load AMS LaTeX font in matplotlib.pyplot\n",
    "plt.rc('mathtext', fontset=\"cm\")\n",
    "plt.rcParams.update({\n",
    "'font.size': 12,\n",
    "'text.usetex': True,\n",
    "'text.latex.preamble': r'\\usepackage{amsfonts}'\n",
    "})\n",
    "\n",
    "\n",
    "# Import local modules\n",
    "\n",
    "from utils import get_tail_from_pds\n",
    "from RBM import RBM\n",
    "from copulas import GaussianCopula"
   ]
  },
  {
   "cell_type": "markdown",
   "id": "97f664d9",
   "metadata": {},
   "source": [
    "# Simulating and calibrating copula models"
   ]
  },
  {
   "cell_type": "markdown",
   "id": "e63194d7",
   "metadata": {},
   "source": []
  },
  {
   "cell_type": "code",
   "execution_count": null,
   "id": "010174e0",
   "metadata": {},
   "outputs": [],
   "source": [
    "# Generate synthetic Gaussian copula dataset\n",
    "\n",
    "n_debtors = 300\n",
    "n_factors = 50\n",
    "n_samples = 10000\n",
    "\n",
    "# Coefficients uniformly distribution in unit ball in R^n_factors\n",
    "# a = tf.random.normal([n_debtors,n_factors], mean=0., stddev=1.)\n",
    "# normalized_a, _ = tf.linalg.normalize(a, ord=2, axis=1)\n",
    "# u = tf.random.uniform([n_debtors], minval=0., maxval=1.)**(1/n_factors)\n",
    "# coefs = tf.multiply(normalized_a, u[:,tf.newaxis])\n",
    "\n",
    "avg_pds = tf.random.uniform([n_debtors], minval=0., maxval=0.05)\n",
    "coefs = tf.random.uniform([n_debtors, n_factors], minval=0., maxval=1/(2*np.sqrt(n_factors)))\n",
    "\n",
    "GC_model_true = GaussianCopula(avg_pds=avg_pds, coefs=coefs)"
   ]
  },
  {
   "cell_type": "code",
   "execution_count": null,
   "id": "04c2c2f6",
   "metadata": {},
   "outputs": [],
   "source": [
    "pds_true = GC_model_true.simulate_pds(n_samples)"
   ]
  },
  {
   "cell_type": "code",
   "execution_count": null,
   "id": "e4e734c6",
   "metadata": {},
   "outputs": [],
   "source": [
    "GC_model_est = GaussianCopula()\n",
    "GC_model_est.fit(pds_true, n_factors=n_factors, verbose=True)"
   ]
  },
  {
   "cell_type": "code",
   "execution_count": null,
   "id": "c30227d4",
   "metadata": {},
   "outputs": [],
   "source": [
    "pds_est = GC_model_est.simulate_pds(n_samples)"
   ]
  },
  {
   "cell_type": "code",
   "execution_count": null,
   "id": "b318b604",
   "metadata": {},
   "outputs": [],
   "source": [
    "labels = ['True model', 'Estimated model']\n",
    "colors = ['red', 'blue']\n",
    "\n",
    "\n",
    "obligor_id = 10\n",
    "n_bins = 200\n",
    "\n",
    "for i_pds, pds in enumerate([pds_true, pds_est]):\n",
    "    plt.hist(pds[:, obligor_id], color=colors[i_pds], alpha=0.2, bins=n_bins, label=labels[i_pds], density=True)\n",
    "\n",
    "plt.legend(loc='upper right')\n",
    "plt.show()"
   ]
  },
  {
   "cell_type": "code",
   "execution_count": null,
   "id": "6d94159a",
   "metadata": {},
   "outputs": [],
   "source": [
    "ts = np.linspace(0., 1., 200)\n",
    "\n",
    "for i_pds, pds in enumerate([pds_true, pds_est]):\n",
    "    tail, ub, lb = get_tail_from_pds(ts, pds)\n",
    "    plt.plot(ts, np.log10(tail), color=colors[i_pds], label=labels[i_pds])\n",
    "    plt.fill_between(ts, np.log10(lb), np.log10(ub), facecolor=colors[i_pds], alpha=0.2)\n",
    "\n",
    "\n",
    "plt.gca().xaxis.set_major_formatter(PercentFormatter(xmax=1))\n",
    "    \n",
    "plt.xlabel('Relative portfolio loss, x (\\%)')\n",
    "plt.ylabel(r'Tail function, $\\mathbb{P}(L_n/n > x)$')\n",
    "plt.legend(loc='upper right')\n",
    "plt.show()"
   ]
  },
  {
   "cell_type": "markdown",
   "id": "b84fb301",
   "metadata": {},
   "source": [
    "# Training the credit RBM model on a toy dataset"
   ]
  },
  {
   "cell_type": "code",
   "execution_count": null,
   "id": "726e8420",
   "metadata": {},
   "outputs": [],
   "source": [
    "import pickle\n",
    "\n",
    "with open('data/dataset.p', 'rb') as f:\n",
    "    data = pickle.load(f)"
   ]
  },
  {
   "cell_type": "code",
   "execution_count": null,
   "id": "d8dcbac5",
   "metadata": {},
   "outputs": [],
   "source": [
    "[gvkeys, \n",
    "tickers, \n",
    "names,\n",
    "ISO_country_code,\n",
    "main_NACE_code_descr,\n",
    "NACE_code,\n",
    "NACE_code_descr,\n",
    "NAICS_code,\n",
    "NAICS_code_descr,\n",
    "SIC_code,\n",
    "SIC_code_descr,\n",
    "dates, \n",
    "risk_free_rates, \n",
    "market_caps, \n",
    "closing_price, \n",
    "number_of_shares, \n",
    "current_liabs, \n",
    "non_current_liabs, \n",
    "current_assets, \n",
    "non_current_assets, \n",
    "default_probabilities] = data"
   ]
  },
  {
   "cell_type": "code",
   "execution_count": null,
   "id": "efc06db9",
   "metadata": {},
   "outputs": [],
   "source": [
    "tickers_to_keep = ['ARW', 'BBY', 'CTL', 'DD', 'F', 'GT', 'IP', 'IPG', \n",
    "                   'MRO', 'NCR', 'OLN', 'OI', 'AN', 'RAD', 'R', 'TDS', 'TEN',\n",
    "                   'WDC', 'WHR', 'WMB', 'XRX', 'VIAC', 'FCX',\n",
    "                   'X', 'WRK', 'SIRI', 'ABC', 'DISH', 'PAG', 'CNX']\n",
    "\n",
    "indices_to_keep = [tickers.index(ticker) for ticker in tickers_to_keep]\n",
    "\n"
   ]
  },
  {
   "cell_type": "code",
   "execution_count": null,
   "id": "3026da2f",
   "metadata": {},
   "outputs": [],
   "source": [
    "names_to_keep = []\n",
    "\n",
    "for index in indices_to_keep:\n",
    "    names_to_keep.append(names[index])"
   ]
  },
  {
   "cell_type": "code",
   "execution_count": null,
   "id": "55329312",
   "metadata": {},
   "outputs": [],
   "source": [
    "names_to_keep"
   ]
  },
  {
   "cell_type": "code",
   "execution_count": null,
   "id": "b0a4abc0",
   "metadata": {},
   "outputs": [],
   "source": [
    "default_probabilities.shape"
   ]
  },
  {
   "cell_type": "code",
   "execution_count": null,
   "id": "1f163c2d",
   "metadata": {},
   "outputs": [],
   "source": [
    "pds = default_probabilities[:, indices_to_keep]"
   ]
  },
  {
   "cell_type": "code",
   "execution_count": null,
   "id": "cac953b2",
   "metadata": {},
   "outputs": [],
   "source": [
    "import pandas as pd"
   ]
  },
  {
   "cell_type": "code",
   "execution_count": null,
   "id": "b61a3610",
   "metadata": {},
   "outputs": [],
   "source": [
    "data_dict = {}\n",
    "\n",
    "data_dict['dates'] = dates\n",
    "\n",
    "for i_ticker, ticker in enumerate(tickers_to_keep):\n",
    "    data_dict[ticker] = pds[:, i_ticker]"
   ]
  },
  {
   "cell_type": "code",
   "execution_count": null,
   "id": "c6f7d421",
   "metadata": {},
   "outputs": [],
   "source": [
    "df = pd.DataFrame(data=data_dict)"
   ]
  },
  {
   "cell_type": "code",
   "execution_count": null,
   "id": "32586f13",
   "metadata": {},
   "outputs": [],
   "source": [
    "df.to_csv(path_or_buf='data/dataset.csv', sep=';', header=True, index=False)"
   ]
  },
  {
   "cell_type": "code",
   "execution_count": null,
   "id": "ff770c1f",
   "metadata": {},
   "outputs": [],
   "source": [
    "df = pd.read_csv('data/dataset.csv', sep=';')"
   ]
  },
  {
   "cell_type": "code",
   "execution_count": null,
   "id": "2f3fdada",
   "metadata": {},
   "outputs": [],
   "source": [
    "dates = df['dates']\n",
    "tickers = df.columns[1:]"
   ]
  },
  {
   "cell_type": "code",
   "execution_count": null,
   "id": "629516c9",
   "metadata": {},
   "outputs": [],
   "source": [
    "df['ARW']"
   ]
  },
  {
   "cell_type": "code",
   "execution_count": null,
   "id": "40befbbe",
   "metadata": {},
   "outputs": [],
   "source": [
    "df[tickers].values.shape"
   ]
  },
  {
   "cell_type": "markdown",
   "id": "b5882820",
   "metadata": {},
   "source": [
    "# Sandbox"
   ]
  },
  {
   "cell_type": "code",
   "execution_count": 1,
   "id": "becf3d7b",
   "metadata": {},
   "outputs": [],
   "source": [
    "import numpy as np\n",
    "import torch\n",
    "from torch.utils.data import Dataset\n",
    "import pandas as pd\n",
    "import datetime"
   ]
  },
  {
   "cell_type": "code",
   "execution_count": 55,
   "id": "aaf15345",
   "metadata": {},
   "outputs": [],
   "source": [
    "class dataset(Dataset):\n",
    "    \"\"\"Implements FRB stress test dataset.\n",
    "    \n",
    "    The dataset is located in 'data/FRB_stress-test/stress-test_dataset.csv'.\n",
    "    \n",
    "    Attributes:\n",
    "    -----------\n",
    "    raw_data : torch.Tensor, shape = (n_samples, n_features)\n",
    "        Raw (i.e. unnormalized) dataset values.\n",
    "    data : torch.Tensor, shape = (n_samples, n_features)\n",
    "        Dataset values (normalized).\n",
    "    dates : list of datetime.datetime objects\n",
    "        Dataset observation dates.\n",
    "    n_features : int\n",
    "        Number of firms in dataset.\n",
    "    feature_names : list of strings\n",
    "        Tickers of firms in dataset.\n",
    "    \"\"\"\n",
    "    \n",
    "    def __init__(self):\n",
    "        \n",
    "        # Load dataset as pandas DataFrame object\n",
    "        df = pd.read_csv('data/dataset.csv', sep=';')\n",
    "        \n",
    "        tickers = df.columns[1:].values\n",
    "               \n",
    "        self.dates = self.dates = [datetime.datetime(int(date[:4]), int(date[5:7]), int(date[8:10])) for date in df['dates'].values]\n",
    "        self.n_features = len(tickers)\n",
    "        self.feature_names = list(tickers)\n",
    "        \n",
    "        ### Fixing min and max values for dataset.\n",
    "        # We fix range manually as [0.75 of min value, 1.25 of max value]\n",
    "        \n",
    "        self.raw_data = torch.from_numpy(df[tickers].values).detach().clone()\n",
    "        \n",
    "        self.min_vals = self.raw_data.min(axis=0).values*0.75\n",
    "\n",
    "        if float(torch.__version__[:3]) <= 1.6:\n",
    "            self.max_vals = torch.min(self.raw_data.max(axis=0).values*1.25, torch.tensor([1.]).double())\n",
    "        else:\n",
    "            self.max_vals = torch.minimum(self.raw_data.max(axis=0).values*1.25, torch.tensor([1.]))\n",
    "        \n",
    "        self.data = self.normalize(self.raw_data)\n",
    "        \n",
    "        \n",
    "    def to(self, device):\n",
    "        if device == 'cuda' and not torch.cuda.is_available():\n",
    "            print('Cuda not available: dataset is kept on CPU. Training may be slow.')\n",
    "        else:\n",
    "            self.data = self.data.to(device)\n",
    "            \n",
    "    def get_device(self):\n",
    "        return self.data.device.type\n",
    "        \n",
    "        \n",
    "    def normalize(self, data, inverse=False):\n",
    "        \"\"\"Normalize data so that each feature is in [0,1].\n",
    "        \n",
    "        Normalized data can be used for training RBMs (instead of binarizing).\n",
    "        This data pre-processing transformation is stored as a dataset method \n",
    "        because the feature range is a dataset-dependent choice. The choice of\n",
    "        range is a delicate issue because it influences learning efficiency\n",
    "        and the range of possible conditional queries once the model is trained.\n",
    "        \n",
    "        Parameters:\n",
    "        -----------\n",
    "        data : torch tensor\n",
    "            Data to be normalized.\n",
    "            \n",
    "        Returns:\n",
    "        --------\n",
    "        normalized_data : torch tensor\n",
    "            Normalized data.        \n",
    "        \"\"\"        \n",
    "        \n",
    "        ### Input checking\n",
    "        # If data tensor is 1d, cast it to 2d\n",
    "        if not inverse:\n",
    "            if data.ndim == 1:\n",
    "                data = data.reshape(1, -1)\n",
    "\n",
    "            if not torch.is_tensor(data):\n",
    "                raise ValueError('Data must be torch tensor.')\n",
    "\n",
    "            with np.errstate(invalid='ignore'): # Supress Runtime warnings for nan comparisons\n",
    "                if np.logical_and(data < self.min_vals, torch.logical_not(torch.isnan(data))).any():\n",
    "                    raise ValueError('Values to be normalized are out of range.')\n",
    "                elif np.logical_and(data > self.max_vals, torch.logical_not(torch.isnan(data))).any():\n",
    "                    raise ValueError('Values to be normalized are out of range.')            \n",
    "                elif data.shape[1] != self.n_features:\n",
    "                    raise ValueError('Values to be normalized have wrong size.')\n",
    "                else:\n",
    "                    pass\n",
    "        \n",
    "        ### Transforming data.\n",
    "        if inverse:\n",
    "            normalized_data = data*(self.max_vals - self.min_vals) + self.min_vals\n",
    "        else:\n",
    "            normalized_data = (data - self.min_vals)/(self.max_vals - self.min_vals)\n",
    "        \n",
    "        return normalized_data\n",
    "        \n",
    "        \n",
    "    def __len__(self):\n",
    "        \n",
    "        return self.data.shape[0]\n",
    "    \n",
    "    def __getdataset__(self):\n",
    "        \n",
    "        return self.__getitem__(range(self.__len__()))\n",
    "\n",
    "    def __getitem__(self, idx):\n",
    "\n",
    "        if torch.is_tensor(idx):\n",
    "            idx = idx.tolist()\n",
    "        \n",
    "        sample = self.data[idx,:]\n",
    "\n",
    "        return sample"
   ]
  },
  {
   "cell_type": "code",
   "execution_count": 56,
   "id": "0ee4f607",
   "metadata": {},
   "outputs": [],
   "source": [
    "dataset = dataset()"
   ]
  },
  {
   "cell_type": "code",
   "execution_count": 20,
   "id": "055391a8",
   "metadata": {},
   "outputs": [
    {
     "data": {
      "text/plain": [
       "tensor([[5.8137e-03, 3.7457e-07, 3.3055e-05,  ..., 1.2882e-06, 7.1111e-02,\n",
       "         3.5780e-01],\n",
       "        [6.5263e-03, 3.8462e-07, 4.8105e-05,  ..., 2.0831e-06, 7.2107e-02,\n",
       "         3.6508e-01],\n",
       "        [6.6838e-03, 4.9955e-07, 4.5368e-05,  ..., 2.1866e-06, 7.0709e-02,\n",
       "         3.6225e-01],\n",
       "        ...,\n",
       "        [1.2029e-02, 1.1003e-03, 1.9099e-01,  ..., 5.7854e-02, 6.8252e-03,\n",
       "         8.7622e-02],\n",
       "        [1.2136e-02, 1.0131e-03, 1.8642e-01,  ..., 5.9609e-02, 6.5482e-03,\n",
       "         7.3548e-02],\n",
       "        [1.1690e-02, 9.4705e-04, 1.9213e-01,  ..., 5.8214e-02, 6.1811e-03,\n",
       "         7.7283e-02]], dtype=torch.float64)"
      ]
     },
     "execution_count": 20,
     "metadata": {},
     "output_type": "execute_result"
    }
   ],
   "source": [
    "dataset.raw_data"
   ]
  },
  {
   "cell_type": "code",
   "execution_count": 52,
   "id": "47734662",
   "metadata": {},
   "outputs": [
    {
     "data": {
      "text/plain": [
       "datetime.datetime"
      ]
     },
     "execution_count": 52,
     "metadata": {},
     "output_type": "execute_result"
    }
   ],
   "source": [
    "type(dataset.dates[0])"
   ]
  },
  {
   "cell_type": "code",
   "execution_count": 58,
   "id": "d6182406",
   "metadata": {},
   "outputs": [
    {
     "data": {
      "text/plain": [
       "str"
      ]
     },
     "execution_count": 58,
     "metadata": {},
     "output_type": "execute_result"
    }
   ],
   "source": [
    "type(dataset.feature_names[0])"
   ]
  },
  {
   "cell_type": "code",
   "execution_count": 48,
   "id": "7031e29e",
   "metadata": {},
   "outputs": [
    {
     "data": {
      "image/png": "[encoded data removed]",
      "text/plain": [
       "<Figure size 640x480 with 1 Axes>"
      ]
     },
     "metadata": {},
     "output_type": "display_data"
    }
   ],
   "source": [
    "plt.plot(dataset.dates, dataset.raw_data[:, 0])\n",
    "plt.show()"
   ]
  },
  {
   "cell_type": "code",
   "execution_count": 34,
   "id": "b85c9116",
   "metadata": {},
   "outputs": [
    {
     "data": {
      "text/plain": [
       "pandas.core.series.Series"
      ]
     },
     "execution_count": 34,
     "metadata": {},
     "output_type": "execute_result"
    }
   ],
   "source": [
    "type(dataset.dates)"
   ]
  },
  {
   "cell_type": "code",
   "execution_count": null,
   "id": "8ece2ed3",
   "metadata": {},
   "outputs": [],
   "source": []
  }
 ],
 "metadata": {
  "kernelspec": {
   "display_name": "Python 3 (ipykernel)",
   "language": "python",
   "name": "python3"
  },
  "language_info": {
   "codemirror_mode": {
    "name": "ipython",
    "version": 3
   },
   "file_extension": ".py",
   "mimetype": "text/x-python",
   "name": "python",
   "nbconvert_exporter": "python",
   "pygments_lexer": "ipython3",
   "version": "3.7.13"
  }
 },
 "nbformat": 4,
 "nbformat_minor": 5
}
